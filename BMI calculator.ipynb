{
 "cells": [
  {
   "cell_type": "markdown",
   "id": "2b4571c9-938e-4559-bc11-aa1ca71f367b",
   "metadata": {},
   "source": [
    "BMI Calculator"
   ]
  },
  {
   "cell_type": "code",
   "execution_count": 38,
   "id": "b4e38a16-f34c-4551-91f7-4af912df6877",
   "metadata": {},
   "outputs": [
    {
     "name": "stdin",
     "output_type": "stream",
     "text": [
      "Enter your name:  tanisha\n",
      "enter your weight in pounds:  170\n",
      "enter your height in inches:  69\n"
     ]
    },
    {
     "name": "stdout",
     "output_type": "stream",
     "text": [
      "25.101869355177485\n",
      "tanisha, You are overweight. you need to exercise more and stop eating junk food.\n"
     ]
    }
   ],
   "source": [
    "name = input(\"Enter your name: \")\n",
    "\n",
    "\n",
    "weight = int(input(\"enter your weight in pounds: \"))\n",
    "\n",
    "height = int(input(\"enter your height in inches: \"))\n",
    "\n",
    "BMI = (weight * 703) / (height * height)\n",
    "\n",
    "print(BMI)\n",
    "\n",
    "if BMI > 0 and BMI < 18.5:\n",
    "    print(name + \", You are underweight.\")\n",
    "elif BMI >= 18.5 and BMI <= 24.9:\n",
    "    print(name + \", You are normal weight.\")\n",
    "elif BMI >= 25 and BMI <= 29.9:\n",
    "    print(name + \", You are overweight. you need to exercise more and stop eating junk food.\")\n",
    "elif BMI >= 30 and BMI <= 34.9:\n",
    "    print(name + \", You are obese.\")\n",
    "elif BMI >= 35 and BMI <= 39.9:\n",
    "    print(name + \", You are severely obese.\")\n",
    "elif BMI >= 40:\n",
    "    print(name + \",You are over-morbidly obese.\")\n",
    "else:\n",
    "    print(\"enter correct information!\")\n",
    "\n",
    "\n",
    "\n",
    "\n",
    "\n"
   ]
  },
  {
   "cell_type": "code",
   "execution_count": 22,
   "id": "afabfcd2-0884-4c11-b3ab-e37191bf276f",
   "metadata": {},
   "outputs": [
    {
     "data": {
      "text/plain": [
       "str"
      ]
     },
     "execution_count": 22,
     "metadata": {},
     "output_type": "execute_result"
    }
   ],
   "source": [
    "type(height)"
   ]
  },
  {
   "cell_type": "code",
   "execution_count": 34,
   "id": "13ee0c2b-b5a8-4f0e-b6a4-7a99efb237d8",
   "metadata": {},
   "outputs": [
    {
     "name": "stdout",
     "output_type": "stream",
     "text": [
      "tanisha, You are overweight.\n"
     ]
    }
   ],
   "source": [
    "if BMI > 0 and BMI < 18.5:\n",
    "    print(name + \", You are underweight.\")\n",
    "elif BMI >= 18.5 and BMI <= 24.9:\n",
    "    print(name + \", You are normal weight.\")\n",
    "elif BMI >= 25 and BMI <= 29.9:\n",
    "    print(name + \", You are overweight.\")\n",
    "elif BMI >= 30 and BMI <= 34.9:\n",
    "    print(name + \", You are obese.\")\n",
    "elif BMI >= 35 and BMI <= 39.9:\n",
    "    print(name + \", You are severely obese.\")\n",
    "elif BMI >= 40:\n",
    "    print(name + \",You are over-morbidly obese.\")\n",
    "else:\n",
    "    print(\"enter correct information!\")\n",
    "    \n",
    "   \n",
    "        "
   ]
  },
  {
   "cell_type": "code",
   "execution_count": null,
   "id": "0e4c1e89-c65c-4d07-a8ed-126ba39f1b0c",
   "metadata": {},
   "outputs": [],
   "source": []
  },
  {
   "cell_type": "code",
   "execution_count": null,
   "id": "d779681a-6c93-46f2-8d7c-5b9ff510b69c",
   "metadata": {},
   "outputs": [],
   "source": []
  },
  {
   "cell_type": "code",
   "execution_count": null,
   "id": "1a0d7a39-90ab-43fb-8083-ac30111acf31",
   "metadata": {},
   "outputs": [],
   "source": []
  },
  {
   "cell_type": "code",
   "execution_count": null,
   "id": "6addb262-390a-475b-b68b-77895eb3bb6e",
   "metadata": {},
   "outputs": [],
   "source": []
  },
  {
   "cell_type": "code",
   "execution_count": null,
   "id": "11e7d00c-5aac-4637-9b3c-4c581978dd09",
   "metadata": {},
   "outputs": [],
   "source": []
  },
  {
   "cell_type": "code",
   "execution_count": 2,
   "id": "1e608af3-2fd9-4931-a874-f4b85ae44962",
   "metadata": {},
   "outputs": [],
   "source": [
    "#BMI = (weight in pounds x 703) / (height in inches x height in inches)"
   ]
  },
  {
   "cell_type": "code",
   "execution_count": null,
   "id": "c30ca375-c579-4321-b206-0dc53884cf0b",
   "metadata": {},
   "outputs": [],
   "source": [
    "print(weight"
   ]
  }
 ],
 "metadata": {
  "kernelspec": {
   "display_name": "Python 3 (ipykernel)",
   "language": "python",
   "name": "python3"
  },
  "language_info": {
   "codemirror_mode": {
    "name": "ipython",
    "version": 3
   },
   "file_extension": ".py",
   "mimetype": "text/x-python",
   "name": "python",
   "nbconvert_exporter": "python",
   "pygments_lexer": "ipython3",
   "version": "3.12.7"
  }
 },
 "nbformat": 4,
 "nbformat_minor": 5
}
